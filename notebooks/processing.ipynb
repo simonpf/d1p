{
 "cells": [
  {
   "cell_type": "markdown",
   "id": "63e3b348-72b3-4bf9-824b-5bc615b91934",
   "metadata": {},
   "source": [
    "# TROPICS processing\n",
    "\n",
    "This notebook processes TROPICS TMS observations via ATMS emulation."
   ]
  },
  {
   "cell_type": "code",
   "execution_count": null,
   "id": "a05bdf83-f516-465a-b7c4-9a628caa9392",
   "metadata": {},
   "outputs": [],
   "source": [
    "%load_ext autoreload\n",
    "%autoreload 2\n",
    "import matplotlib.pyplot as plt\n",
    "import numpy as np\n",
    "import xarray as xr\n",
    "import h5glance\n",
    "import sys\n",
    "sys.path.insert(0, \"..\")\n",
    "import d1p"
   ]
  },
  {
   "cell_type": "markdown",
   "id": "a62512f6-f2ba-40a9-a0d6-ede386139071",
   "metadata": {},
   "source": [
    "## Determine L1C files to process"
   ]
  },
  {
   "cell_type": "code",
   "execution_count": null,
   "id": "0868ecc4-f37d-442b-9504-2204d26414a3",
   "metadata": {},
   "outputs": [],
   "source": [
    "from pathlib import Path\n",
    "from pansat.products.satellite.gpm import l1c_tropics03_tms\n",
    "\n",
    "l1c_path = Path(\"/pdata4/archive/GPM/1C_TROPICS03_ITE/2307//\")\n",
    "files = sorted(list(l1c_path.glob(\"**/*.HDF5\")))\n",
    "print(f'Found {len(files)} files.')"
   ]
  },
  {
   "cell_type": "markdown",
   "id": "132d1dfd-0baf-4fbb-9655-9be0cfac5186",
   "metadata": {},
   "source": [
    "# Run GPROF"
   ]
  },
  {
   "cell_type": "code",
   "execution_count": null,
   "id": "c119c103-c849-48e0-b239-3856b7b4c1d3",
   "metadata": {},
   "outputs": [],
   "source": [
    "from d1p import run_gprof"
   ]
  },
  {
   "cell_type": "code",
   "execution_count": null,
   "id": "caf83149-5634-431e-ac46-907c3b845379",
   "metadata": {
    "scrolled": true
   },
   "outputs": [],
   "source": [
    "output_path = Path(\"/edata1/simon/d1p/2A_TROPICS03_ATMS\")\n",
    "\n",
    "for l1c_file in files:\n",
    "    results = run_gprof(l1c_file)\n",
    "    if results is None:\n",
    "        continue\n",
    "    output_file = output_path / l1c_file.relative_to(l1c_path)\n",
    "    print(\"Writing results to \", output_file)\n",
    "    output_file.parent.mkdir(exist_ok=True, parents=True)\n",
    "    results.to_netcdf(output_file)"
   ]
  }
 ],
 "metadata": {
  "kernelspec": {
   "display_name": "Python 3 (ipykernel)",
   "language": "python",
   "name": "python3"
  },
  "language_info": {
   "codemirror_mode": {
    "name": "ipython",
    "version": 3
   },
   "file_extension": ".py",
   "mimetype": "text/x-python",
   "name": "python",
   "nbconvert_exporter": "python",
   "pygments_lexer": "ipython3",
   "version": "3.10.13"
  }
 },
 "nbformat": 4,
 "nbformat_minor": 5
}
